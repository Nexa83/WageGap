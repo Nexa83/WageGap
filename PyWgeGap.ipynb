{
 "cells": [
  {
   "cell_type": "code",
   "execution_count": 1,
   "id": "c185ff0d",
   "metadata": {},
   "outputs": [],
   "source": [
    "import pandas as pd"
   ]
  },
  {
   "cell_type": "code",
   "execution_count": 2,
   "id": "a666b796",
   "metadata": {},
   "outputs": [],
   "source": [
    "wagegap = pd.read_csv(\"GenderGapData.csv\")"
   ]
  },
  {
   "cell_type": "code",
   "execution_count": 3,
   "id": "0a11bfb4",
   "metadata": {},
   "outputs": [
    {
     "data": {
      "text/html": [
       "<div>\n",
       "<style scoped>\n",
       "    .dataframe tbody tr th:only-of-type {\n",
       "        vertical-align: middle;\n",
       "    }\n",
       "\n",
       "    .dataframe tbody tr th {\n",
       "        vertical-align: top;\n",
       "    }\n",
       "\n",
       "    .dataframe thead th {\n",
       "        text-align: right;\n",
       "    }\n",
       "</style>\n",
       "<table border=\"1\" class=\"dataframe\">\n",
       "  <thead>\n",
       "    <tr style=\"text-align: right;\">\n",
       "      <th></th>\n",
       "      <th>Occupation</th>\n",
       "      <th>All_workers</th>\n",
       "      <th>All_weekly</th>\n",
       "      <th>M_workers</th>\n",
       "      <th>M_weekly</th>\n",
       "      <th>F_workers</th>\n",
       "      <th>F_weekly</th>\n",
       "    </tr>\n",
       "  </thead>\n",
       "  <tbody>\n",
       "    <tr>\n",
       "      <th>0</th>\n",
       "      <td>ALL OCCUPATIONS</td>\n",
       "      <td>109080</td>\n",
       "      <td>809</td>\n",
       "      <td>60746</td>\n",
       "      <td>895</td>\n",
       "      <td>48334</td>\n",
       "      <td>726</td>\n",
       "    </tr>\n",
       "    <tr>\n",
       "      <th>1</th>\n",
       "      <td>MANAGEMENT</td>\n",
       "      <td>12480</td>\n",
       "      <td>1351</td>\n",
       "      <td>7332</td>\n",
       "      <td>1486</td>\n",
       "      <td>5147</td>\n",
       "      <td>1139</td>\n",
       "    </tr>\n",
       "    <tr>\n",
       "      <th>2</th>\n",
       "      <td>Chief executives</td>\n",
       "      <td>1046</td>\n",
       "      <td>2041</td>\n",
       "      <td>763</td>\n",
       "      <td>2251</td>\n",
       "      <td>283</td>\n",
       "      <td>1836</td>\n",
       "    </tr>\n",
       "    <tr>\n",
       "      <th>3</th>\n",
       "      <td>General and operations managers</td>\n",
       "      <td>823</td>\n",
       "      <td>1260</td>\n",
       "      <td>621</td>\n",
       "      <td>1347</td>\n",
       "      <td>202</td>\n",
       "      <td>1002</td>\n",
       "    </tr>\n",
       "    <tr>\n",
       "      <th>4</th>\n",
       "      <td>Legislators</td>\n",
       "      <td>8</td>\n",
       "      <td>Na</td>\n",
       "      <td>5</td>\n",
       "      <td>Na</td>\n",
       "      <td>4</td>\n",
       "      <td>Na</td>\n",
       "    </tr>\n",
       "  </tbody>\n",
       "</table>\n",
       "</div>"
      ],
      "text/plain": [
       "                        Occupation  All_workers All_weekly  M_workers  \\\n",
       "0                  ALL OCCUPATIONS       109080        809      60746   \n",
       "1                       MANAGEMENT        12480       1351       7332   \n",
       "2                 Chief executives         1046       2041        763   \n",
       "3  General and operations managers          823       1260        621   \n",
       "4                      Legislators            8         Na          5   \n",
       "\n",
       "  M_weekly  F_workers F_weekly  \n",
       "0      895      48334      726  \n",
       "1     1486       5147     1139  \n",
       "2     2251        283     1836  \n",
       "3     1347        202     1002  \n",
       "4       Na          4       Na  "
      ]
     },
     "execution_count": 3,
     "metadata": {},
     "output_type": "execute_result"
    }
   ],
   "source": [
    "wagegap.head()"
   ]
  },
  {
   "cell_type": "code",
   "execution_count": null,
   "id": "f3614404",
   "metadata": {},
   "outputs": [],
   "source": []
  }
 ],
 "metadata": {
  "kernelspec": {
   "display_name": "Python 3 (ipykernel)",
   "language": "python",
   "name": "python3"
  },
  "language_info": {
   "codemirror_mode": {
    "name": "ipython",
    "version": 3
   },
   "file_extension": ".py",
   "mimetype": "text/x-python",
   "name": "python",
   "nbconvert_exporter": "python",
   "pygments_lexer": "ipython3",
   "version": "3.10.5"
  }
 },
 "nbformat": 4,
 "nbformat_minor": 5
}
